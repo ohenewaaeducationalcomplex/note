{
 "cells": [
  {
   "cell_type": "code",
   "execution_count": 1,
   "id": "70dad6cc-753d-4a99-99c7-4ecd08e4f78f",
   "metadata": {},
   "outputs": [
    {
     "name": "stdout",
     "output_type": "stream",
     "text": [
      "Requirement already satisfied: Flask==3.0.2 in c:\\users\\offic\\anaconda3\\lib\\site-packages (from -r requirements.txt (line 1)) (3.0.2)\n",
      "Requirement already satisfied: Flask-Login==0.6.3 in c:\\users\\offic\\anaconda3\\lib\\site-packages (from -r requirements.txt (line 2)) (0.6.3)\n",
      "Requirement already satisfied: Flask-SQLAlchemy==3.1.1 in c:\\users\\offic\\anaconda3\\lib\\site-packages (from -r requirements.txt (line 3)) (3.1.1)\n",
      "Collecting Werkzeug==3.0.2 (from -r requirements.txt (line 4))\n",
      "  Downloading werkzeug-3.0.2-py3-none-any.whl.metadata (4.1 kB)\n",
      "Requirement already satisfied: pandas==2.2.2 in c:\\users\\offic\\anaconda3\\lib\\site-packages (from -r requirements.txt (line 5)) (2.2.2)\n",
      "Requirement already satisfied: openpyxl==3.1.5 in c:\\users\\offic\\anaconda3\\lib\\site-packages (from -r requirements.txt (line 6)) (3.1.5)\n",
      "Collecting fpdf2==2.7.9 (from -r requirements.txt (line 7))\n",
      "  Downloading fpdf2-2.7.9-py2.py3-none-any.whl.metadata (58 kB)\n",
      "Collecting gunicorn==21.2.0 (from -r requirements.txt (line 8))\n",
      "  Downloading gunicorn-21.2.0-py3-none-any.whl.metadata (4.1 kB)\n",
      "Requirement already satisfied: psycopg2-binary==2.9.9 in c:\\users\\offic\\anaconda3\\lib\\site-packages (from -r requirements.txt (line 9)) (2.9.9)\n",
      "Requirement already satisfied: Jinja2>=3.1.2 in c:\\users\\offic\\anaconda3\\lib\\site-packages (from Flask==3.0.2->-r requirements.txt (line 1)) (3.1.4)\n",
      "Requirement already satisfied: itsdangerous>=2.1.2 in c:\\users\\offic\\anaconda3\\lib\\site-packages (from Flask==3.0.2->-r requirements.txt (line 1)) (2.2.0)\n",
      "Requirement already satisfied: click>=8.1.3 in c:\\users\\offic\\anaconda3\\lib\\site-packages (from Flask==3.0.2->-r requirements.txt (line 1)) (8.1.7)\n",
      "Requirement already satisfied: blinker>=1.6.2 in c:\\users\\offic\\anaconda3\\lib\\site-packages (from Flask==3.0.2->-r requirements.txt (line 1)) (1.6.2)\n",
      "Requirement already satisfied: sqlalchemy>=2.0.16 in c:\\users\\offic\\anaconda3\\lib\\site-packages (from Flask-SQLAlchemy==3.1.1->-r requirements.txt (line 3)) (2.0.30)\n",
      "Requirement already satisfied: MarkupSafe>=2.1.1 in c:\\users\\offic\\anaconda3\\lib\\site-packages (from Werkzeug==3.0.2->-r requirements.txt (line 4)) (2.1.3)\n",
      "Requirement already satisfied: numpy>=1.26.0 in c:\\users\\offic\\anaconda3\\lib\\site-packages (from pandas==2.2.2->-r requirements.txt (line 5)) (1.26.4)\n",
      "Requirement already satisfied: python-dateutil>=2.8.2 in c:\\users\\offic\\anaconda3\\lib\\site-packages (from pandas==2.2.2->-r requirements.txt (line 5)) (2.9.0.post0)\n",
      "Requirement already satisfied: pytz>=2020.1 in c:\\users\\offic\\anaconda3\\lib\\site-packages (from pandas==2.2.2->-r requirements.txt (line 5)) (2024.1)\n",
      "Requirement already satisfied: tzdata>=2022.7 in c:\\users\\offic\\anaconda3\\lib\\site-packages (from pandas==2.2.2->-r requirements.txt (line 5)) (2023.3)\n",
      "Requirement already satisfied: et-xmlfile in c:\\users\\offic\\anaconda3\\lib\\site-packages (from openpyxl==3.1.5->-r requirements.txt (line 6)) (1.1.0)\n",
      "Requirement already satisfied: defusedxml in c:\\users\\offic\\anaconda3\\lib\\site-packages (from fpdf2==2.7.9->-r requirements.txt (line 7)) (0.7.1)\n",
      "Requirement already satisfied: Pillow!=9.2.*,>=6.2.2 in c:\\users\\offic\\anaconda3\\lib\\site-packages (from fpdf2==2.7.9->-r requirements.txt (line 7)) (10.4.0)\n",
      "Requirement already satisfied: fonttools>=4.34.0 in c:\\users\\offic\\anaconda3\\lib\\site-packages (from fpdf2==2.7.9->-r requirements.txt (line 7)) (4.51.0)\n",
      "Requirement already satisfied: packaging in c:\\users\\offic\\anaconda3\\lib\\site-packages (from gunicorn==21.2.0->-r requirements.txt (line 8)) (24.1)\n",
      "Requirement already satisfied: colorama in c:\\users\\offic\\anaconda3\\lib\\site-packages (from click>=8.1.3->Flask==3.0.2->-r requirements.txt (line 1)) (0.4.6)\n",
      "Requirement already satisfied: six>=1.5 in c:\\users\\offic\\anaconda3\\lib\\site-packages (from python-dateutil>=2.8.2->pandas==2.2.2->-r requirements.txt (line 5)) (1.16.0)\n",
      "Requirement already satisfied: typing-extensions>=4.6.0 in c:\\users\\offic\\anaconda3\\lib\\site-packages (from sqlalchemy>=2.0.16->Flask-SQLAlchemy==3.1.1->-r requirements.txt (line 3)) (4.11.0)\n",
      "Requirement already satisfied: greenlet!=0.4.17 in c:\\users\\offic\\anaconda3\\lib\\site-packages (from sqlalchemy>=2.0.16->Flask-SQLAlchemy==3.1.1->-r requirements.txt (line 3)) (3.0.1)\n",
      "Downloading werkzeug-3.0.2-py3-none-any.whl (226 kB)\n",
      "Downloading fpdf2-2.7.9-py2.py3-none-any.whl (206 kB)\n",
      "Downloading gunicorn-21.2.0-py3-none-any.whl (80 kB)\n",
      "Installing collected packages: Werkzeug, gunicorn, fpdf2\n",
      "\n",
      "  Attempting uninstall: Werkzeug\n",
      "\n",
      "    Found existing installation: Werkzeug 3.0.3\n",
      "\n",
      "    Uninstalling Werkzeug-3.0.3:\n",
      "\n",
      "      Successfully uninstalled Werkzeug-3.0.3\n",
      "\n",
      "   ---------------------------------------- 0/3 [Werkzeug]\n",
      "   ---------------------------------------- 0/3 [Werkzeug]\n",
      "   ---------------------------------------- 0/3 [Werkzeug]\n",
      "   ---------------------------------------- 0/3 [Werkzeug]\n",
      "  Attempting uninstall: gunicorn\n",
      "   ---------------------------------------- 0/3 [Werkzeug]\n",
      "    Found existing installation: gunicorn 23.0.0\n",
      "   ---------------------------------------- 0/3 [Werkzeug]\n",
      "    Uninstalling gunicorn-23.0.0:\n",
      "   ---------------------------------------- 0/3 [Werkzeug]\n",
      "      Successfully uninstalled gunicorn-23.0.0\n",
      "   ---------------------------------------- 0/3 [Werkzeug]\n",
      "   ------------- -------------------------- 1/3 [gunicorn]\n",
      "   ------------- -------------------------- 1/3 [gunicorn]\n",
      "  Attempting uninstall: fpdf2\n",
      "   ------------- -------------------------- 1/3 [gunicorn]\n",
      "   -------------------------- ------------- 2/3 [fpdf2]\n",
      "    Found existing installation: fpdf2 2.8.4\n",
      "   -------------------------- ------------- 2/3 [fpdf2]\n",
      "    Uninstalling fpdf2-2.8.4:\n",
      "   -------------------------- ------------- 2/3 [fpdf2]\n",
      "      Successfully uninstalled fpdf2-2.8.4\n",
      "   -------------------------- ------------- 2/3 [fpdf2]\n",
      "   -------------------------- ------------- 2/3 [fpdf2]\n",
      "   -------------------------- ------------- 2/3 [fpdf2]\n",
      "   -------------------------- ------------- 2/3 [fpdf2]\n",
      "   -------------------------- ------------- 2/3 [fpdf2]\n",
      "   ---------------------------------------- 3/3 [fpdf2]\n",
      "\n",
      "Successfully installed Werkzeug-3.0.2 fpdf2-2.7.9 gunicorn-21.2.0\n"
     ]
    }
   ],
   "source": [
    "!pip install -r requirements.txt\n"
   ]
  },
  {
   "cell_type": "code",
   "execution_count": null,
   "id": "54d0bf01-0be0-4238-8ab8-26e316fa06a9",
   "metadata": {},
   "outputs": [],
   "source": [
    "!python app.py"
   ]
  },
  {
   "cell_type": "code",
   "execution_count": null,
   "id": "881b6c8d-626f-45b1-b6de-dfc4df1d3a12",
   "metadata": {},
   "outputs": [],
   "source": []
  }
 ],
 "metadata": {
  "kernelspec": {
   "display_name": "Python [conda env:base] *",
   "language": "python",
   "name": "conda-base-py"
  },
  "language_info": {
   "codemirror_mode": {
    "name": "ipython",
    "version": 3
   },
   "file_extension": ".py",
   "mimetype": "text/x-python",
   "name": "python",
   "nbconvert_exporter": "python",
   "pygments_lexer": "ipython3",
   "version": "3.12.7"
  }
 },
 "nbformat": 4,
 "nbformat_minor": 5
}
